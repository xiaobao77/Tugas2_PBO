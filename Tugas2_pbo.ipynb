{
  "nbformat": 4,
  "nbformat_minor": 0,
  "metadata": {
    "colab": {
      "provenance": [],
      "authorship_tag": "ABX9TyMgT1v+6N3kBOeKPdWtzX6V",
      "include_colab_link": true
    },
    "kernelspec": {
      "name": "python3",
      "display_name": "Python 3"
    },
    "language_info": {
      "name": "python"
    }
  },
  "cells": [
    {
      "cell_type": "markdown",
      "metadata": {
        "id": "view-in-github",
        "colab_type": "text"
      },
      "source": [
        "<a href=\"https://colab.research.google.com/github/xiaobao77/Tugas2_PBO/blob/main/Tugas2_pbo.ipynb\" target=\"_parent\"><img src=\"https://colab.research.google.com/assets/colab-badge.svg\" alt=\"Open In Colab\"/></a>"
      ]
    },
    {
      "cell_type": "code",
      "execution_count": 10,
      "metadata": {
        "colab": {
          "base_uri": "https://localhost:8080/"
        },
        "id": "QNTiqlCeczu_",
        "outputId": "de3fa971-14b0-4611-eacc-4fc12146b7fb"
      },
      "outputs": [
        {
          "output_type": "stream",
          "name": "stdout",
          "text": [
            "surah = alankabut\n",
            "ayat 65\n"
          ]
        }
      ],
      "source": [
        "1. # Mendefinisikan kelas Alankabut\n",
        "class Alankabut:\n",
        "    def __init__(self):\n",
        "      self.ayat = 0\n",
        "      self.surah = \"\"\n",
        "\n",
        "def main():\n",
        "        # membuat objek\n",
        "        alk = Alankabut()\n",
        "        alk.ayat = 65\n",
        "        alk.surah = \"alankabut\"\n",
        "        print('surah = alankabut')\n",
        "        print('ayat 65')\n",
        "\n",
        "if __name__ == '__main__':\n",
        "    main()\n",
        ""
      ]
    },
    {
      "cell_type": "code",
      "source": [],
      "metadata": {
        "id": "vy4s03MYi2-s"
      },
      "execution_count": null,
      "outputs": []
    },
    {
      "cell_type": "markdown",
      "source": [],
      "metadata": {
        "id": "yVadJs2-c4bA"
      }
    },
    {
      "cell_type": "code",
      "source": [
        "2. # Mendefinisikan kelas Metaverse\n",
        "class Metaverse:\n",
        "    def __init__(self):\n",
        "        self.nama = \"\"\n",
        "        self.pengguna = 0\n",
        "\n",
        "def main():\n",
        "    # Membuat objek dari kelas Metaverse\n",
        "    mv = Metaverse()\n",
        "\n",
        "    # Mengisi nilai ke dalam atribut-atribut obj\n",
        "    mv.nama = \"MetaWorld\"\n",
        "    mv.pengguna = 1000000\n",
        "\n",
        "    # Menggunakan atribut untuk perhitungan\n",
        "    print(f'Nama Metaverse: {mv.nama}')\n",
        "    print(f'Jumlah Pengguna: {mv.pengguna}')\n",
        "\n",
        "if __name__ == '__main__':\n",
        "    main()"
      ],
      "metadata": {
        "colab": {
          "base_uri": "https://localhost:8080/"
        },
        "id": "XNF_SRrXdFng",
        "outputId": "42752f6c-e2c1-4013-caf3-5be420c12534"
      },
      "execution_count": 7,
      "outputs": [
        {
          "output_type": "stream",
          "name": "stdout",
          "text": [
            "Nama Metaverse: MetaWorld\n",
            "Jumlah Pengguna: 1000000\n"
          ]
        }
      ]
    },
    {
      "cell_type": "code",
      "source": [
        "3. # Mendefinisikan kelas Nobita\n",
        "class Nobita:\n",
        "    def __init__(self):\n",
        "        self.nama = \"\"\n",
        "        self.nilai = 0\n",
        "\n",
        "def main():\n",
        "    # Membuat objek dari kelas Nobita\n",
        "    nbt = Nobita()\n",
        "\n",
        "    # Mengisi nilai ke dalam atribut-atribut obj\n",
        "    nbt.nama = \"Nobita Nobi\"\n",
        "    nbt.nilai = 50\n",
        "\n",
        "    # Menggunakan atribut untuk perhitungan\n",
        "    print(f'Nama: {nbt.nama}')\n",
        "    print(f'Nilai Ujian: {nbt.nilai}')\n",
        "\n",
        "if __name__ == '__main__':\n",
        "    main()\n"
      ],
      "metadata": {
        "colab": {
          "base_uri": "https://localhost:8080/"
        },
        "id": "S_GQO7GAc46a",
        "outputId": "242b1327-20e7-4e97-cfa6-be0adc9c1e75"
      },
      "execution_count": 2,
      "outputs": [
        {
          "output_type": "stream",
          "name": "stdout",
          "text": [
            "Nama: Nobita Nobi\n",
            "Nilai Ujian: 50\n"
          ]
        }
      ]
    },
    {
      "cell_type": "code",
      "source": [
        "4. # Mendefinisikan kelas Alankabut\n",
        "class Media:\n",
        "    def __init__(self):\n",
        "        self.nama = \"\"\n",
        "        self.tugas = \"\"\n",
        "\n",
        "def main():\n",
        "    # Membuat objek dari kelas Alankabut\n",
        "    med = Media()\n",
        "\n",
        "    # Mengisi nilai ke dalam atribut-atribut obj\n",
        "    med.nama = \"miftah\"\n",
        "    med.tugas = \"editor\"\n",
        "\n",
        "    # Menggunakan atribut untuk perhitungan\n",
        "    print(f'nama: {med.nama}')\n",
        "    print(f'tugas: {med.tugas}')\n",
        "\n",
        "if __name__ == '__main__':\n",
        "    main()"
      ],
      "metadata": {
        "colab": {
          "base_uri": "https://localhost:8080/"
        },
        "id": "dH4GlCqqgwkg",
        "outputId": "caaef45a-a4a8-4a4e-f82c-d646f95d004f"
      },
      "execution_count": 13,
      "outputs": [
        {
          "output_type": "stream",
          "name": "stdout",
          "text": [
            "nama: miftah\n",
            "tugas: editor\n"
          ]
        }
      ]
    },
    {
      "cell_type": "markdown",
      "source": [],
      "metadata": {
        "id": "Z8_XOwU3gtXW"
      }
    },
    {
      "cell_type": "code",
      "source": [
        "# nama kelas\n",
        "class Bahasa:\n",
        "    def __init__(self):\n",
        "      self.arabic = \"\"\n",
        "      self.china = \"\"\n",
        "\n",
        "# nama objek\n",
        "def main():\n",
        "\n",
        "    bhs = Bahasa()\n",
        "    bhs.arabic = \"جَزَاكَ اللَّهُ خَيْرًا\"\n",
        "    bhs.china = \"谢谢\"\n",
        "\n",
        "# atribut output\n",
        "    print(f'arabic: {bhs.arabic}')\n",
        "    print(f'china: {bhs.china}')\n",
        "\n",
        "if __name__ == '__main__':\n",
        "      main()"
      ],
      "metadata": {
        "colab": {
          "base_uri": "https://localhost:8080/"
        },
        "id": "MSPz6k4ZjBgd",
        "outputId": "c02d26fc-32c8-48bb-a843-32124a7b8e2a"
      },
      "execution_count": 20,
      "outputs": [
        {
          "output_type": "stream",
          "name": "stdout",
          "text": [
            "arabic: جَزَاكَ اللَّهُ خَيْرًا\n",
            "china: 谢谢\n"
          ]
        }
      ]
    }
  ]
}